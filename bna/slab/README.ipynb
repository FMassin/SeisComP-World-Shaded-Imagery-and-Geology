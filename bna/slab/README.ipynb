{
 "cells": [
  {
   "attachments": {},
   "cell_type": "markdown",
   "metadata": {},
   "source": [
    "# Slab model \n",
    "Download from  https://doi.org/10.5066/F7PV6JNV and adjust path below:"
   ]
  },
  {
   "cell_type": "code",
   "execution_count": 6,
   "metadata": {},
   "outputs": [],
   "source": [
    "slabfile = './Slab Depth.kml'"
   ]
  },
  {
   "cell_type": "markdown",
   "metadata": {},
   "source": [
    "# Convert"
   ]
  },
  {
   "cell_type": "code",
   "execution_count": 7,
   "metadata": {},
   "outputs": [
    {
     "name": "stderr",
     "output_type": "stream",
     "text": [
      "/var/folders/xf/kwhkj1vx28g94_l2vsd7zhf40000gn/T/ipykernel_64061/3811721992.py:27: ShapelyDeprecationWarning: __getitem__ for multi-part geometries is deprecated and will be removed in Shapely 2.0. Use the `geoms` property to access the constituent parts of a multi-part geometry.\n",
      "  xy=my_map.geometry.loc[i][0].xy\n"
     ]
    },
    {
     "name": "stdout",
     "output_type": "stream",
     "text": [
      "See ./Slab/\n"
     ]
    }
   ],
   "source": [
    "from os.path import dirname\n",
    "from os import makedirs\n",
    "import geopandas as gpd\n",
    "from matplotlib import cm\n",
    "from matplotlib.colors import LogNorm, Normalize, SymLogNorm\n",
    "cmap = cm.nipy_spectral_r\n",
    "normopts = {'vmin': 20., \n",
    "            'vmax': 800.}\n",
    "normopts = {'linthresh':80, \n",
    "            'linscale':0.3,\n",
    "            'vmin':0, \n",
    "            'vmax':800, \n",
    "            'base':10}\n",
    "norm = SymLogNorm(**normopts)\n",
    "scalarcolormap = cm.ScalarMappable(norm=norm,cmap=cmap)\n",
    "\n",
    "gpd.io.file.fiona.drvsupport.supported_drivers['KML'] = 'rw'\n",
    "\n",
    "my_map = gpd.read_file(slabfile, driver='KML')\n",
    "\n",
    "for i in range(len(my_map)):\n",
    "\n",
    "    desc = my_map.Description.iloc[i]\n",
    "    desc = desc[desc.find('DEPTH</td> <td>')+15:]\n",
    "    depth = desc[:desc.find('</td>')]\n",
    "\n",
    "    xy=my_map.geometry.loc[i][0].xy\n",
    "    name=my_map.Name.loc[i]\n",
    "    file = \"%s/Slab/%s/%s.bna\"%(dirname(slabfile),depth,name)\n",
    "    makedirs(dirname(file),exist_ok=True)\n",
    "    f = open(file, \"a\")\n",
    "    f.write('\"%d %s\", \"rank 1\", -%d\\n'%(i,name,len(xy[0])))\n",
    "    for j in range(len(xy[0])):\n",
    "        f.write(\"%f, %f\\n\"%(xy[0][j],xy[1][j]))\n",
    "    f.close()\n",
    "\n",
    "\n",
    "    file = \"%s/%s/map.cfg\"%(dirname(slabfile),depth)\n",
    "    f = open(file, \"w\")\n",
    "    f.write('visible = true\\n')\n",
    "    f.write('drawName = false\\n')\n",
    "    f.write('pen.style = dashline\\n')\n",
    "    f.write('pen.width = 1\\n')\n",
    "    f.write('pen.color = \"rgba(%d,%d,%d,%d)\"\\n'%tuple([v*255 for v in scalarcolormap.to_rgba(int(depth),alpha=.5)]))\n",
    "    f.write('label = \"%s km\"\\n'%depth)\n",
    "    f.write('index = %s\\n'%depth)\n",
    "    f.close()\n",
    "\n",
    "file = \"%s/map.cfg\"%(dirname(slabfile))\n",
    "f = open(file, \"w\")\n",
    "f.write('title = \"Slab top depth\"\\n')\n",
    "f.close()\n",
    "\n",
    "print('See %s/Slab/'%dirname(slabfile))\n"
   ]
  },
  {
   "cell_type": "code",
   "execution_count": null,
   "metadata": {},
   "outputs": [],
   "source": []
  }
 ],
 "metadata": {
  "kernelspec": {
   "display_name": "Python 3.8.13 ('quake')",
   "language": "python",
   "name": "python3"
  },
  "language_info": {
   "codemirror_mode": {
    "name": "ipython",
    "version": 3
   },
   "file_extension": ".py",
   "mimetype": "text/x-python",
   "name": "python",
   "nbconvert_exporter": "python",
   "pygments_lexer": "ipython3",
   "version": "3.8.13"
  },
  "orig_nbformat": 4,
  "vscode": {
   "interpreter": {
    "hash": "fc28272915da35c1c52e1da67973064ee28c67e6be0f053d5622d662a26b4d59"
   }
  }
 },
 "nbformat": 4,
 "nbformat_minor": 2
}
